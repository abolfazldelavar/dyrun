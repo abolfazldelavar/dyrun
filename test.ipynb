{
 "cells": [
  {
   "cell_type": "code",
   "execution_count": 4,
   "metadata": {},
   "outputs": [
    {
     "data": {
      "text/plain": [
       "<Figure size 640x480 with 0 Axes>"
      ]
     },
     "metadata": {},
     "output_type": "display_data"
    }
   ],
   "source": [
    "# import requirments ---------------------------\n",
    "from brian2 import *\n",
    "import math as math\n",
    "import numpy as np\n",
    "import pandas as pd\n",
    "import matplotlib as mpl\n",
    "import matplotlib.pyplot as plt\n",
    "from control.matlab import *            # Similar to MATLAB functions\n",
    "\n",
    "from initialization import *"
   ]
  },
  {
   "cell_type": "code",
   "execution_count": 5,
   "metadata": {},
   "outputs": [],
   "source": [
    "# Neuron synapses moedel which is obtained from an exponential distribution\n",
    "def createNeuronsConnections(params):\n",
    "    # 3D connection of neurons and synaptic connections\n",
    "    Post         = np.zeros((params.mneuro, params.nneuro, params.N_connections), dtype=np.int16)\n",
    "    ties_stock   = 2000 * params.N_connections\n",
    "    \n",
    "    for i in range(0, params.mneuro):\n",
    "        for j in range(0, params.nneuro):              \n",
    "            XY      = np.zeros((2, ties_stock), dtype=np.int8)\n",
    "            R       = np.random.exponential(scale=params.lambdagain, size=ties_stock)\n",
    "            fi      = 2 * np.pi * np.random.rand(1, ties_stock)\n",
    "            XY[0,:] = np.int16(R * np.cos(fi))\n",
    "            XY[1,:] = np.int16(R * np.sin(fi))\n",
    "            _, idx  = np.unique(XY, axis=1, return_index=True)\n",
    "            XY      = XY[:, np.sort(idx)] # returns the same data with no repetition\n",
    "            n       = 0\n",
    "            \n",
    "            for k in range(0, np.size(XY, 1)):\n",
    "                x = i + XY[0, k]\n",
    "                y = j + XY[1, k]\n",
    "                # This is distance condition, with sin and cos we applied a distance condition == 1\n",
    "                # this line will evaluate that == 0\n",
    "                pp = 1 if i==x and j == y else 0\n",
    "                if (x>=0 and y>=0 and x<params.mneuro and y<params.nneuro and pp==0):\n",
    "                    # Returns the linear index equivalents to the rows(x) and columns(y) (based on MATLAB)\n",
    "                    Post[i,j,n] = y*params.mneuro + x\n",
    "                    n += 1\n",
    "                if n >= params.N_connections: break\n",
    "    # End for\n",
    "\n",
    "    Post2 = Post.transpose(2,0,1)\n",
    "    Post_line = Post2.T.flatten()\n",
    "    Pre_line = np.zeros(np.size(Post_line), dtype=np.int16)\n",
    "    k = 0\n",
    "    for i in range(0, np.size(Post_line), params.N_connections):\n",
    "        Pre_line[i:(i + params.N_connections)] = k\n",
    "        k = k + 1\n",
    "    return [Pre_line.flatten(), Post_line.flatten()]\n",
    "# the end of the function"
   ]
  },
  {
   "cell_type": "code",
   "execution_count": 8,
   "metadata": {},
   "outputs": [],
   "source": [
    "lib = loadLibraries()\n",
    "params = valuation(lib, 0)\n",
    "Pree, Postt = createNeuronsConnections(params)"
   ]
  },
  {
   "cell_type": "code",
   "execution_count": 55,
   "metadata": {},
   "outputs": [
    {
     "name": "stderr",
     "output_type": "stream",
     "text": [
      "WARNING    Came across an abstract code block that may not be well-defined: the outcome may depend on the order of execution. You can ignore this warning if you are sure that the order of operations does not matter. 2 lines of abstract code, first line is: 'Smoother := 1.0 / (1.0 + exp(_lio_1 * (- v_pre))) (constant)'\n",
      " [brian2.codegen.generators.base]\n"
     ]
    }
   ],
   "source": [
    "start_scope()\n",
    "\n",
    "N = 100\n",
    "a = 0.1     # Time scale of the recovery variable\n",
    "b = 0.2     # Sensitivity of the recovery variable to the sub-threshold fluctuations of the membrane potential\n",
    "c = -65     # After-spike reset value of the membrane potential\n",
    "d = 2       # After-spike reset value of the recovery variable\n",
    "aep = 1.2\n",
    "gsyn = 0.05\n",
    "Esyn = 0\n",
    "ksyn = 6\n",
    "Iapp = 10\n",
    "eqs = '''\n",
    "    dv/dt = (0.04*(v**2) + 5*v - u + 140 + Iapp + Isyn)/ms : 1\n",
    "    du/dt = (a*(b*v - u))/ms : 1\n",
    "    Isyn : 1\n",
    "'''\n",
    "reset = '''\n",
    "    v  = c\n",
    "    u += d\n",
    "'''\n",
    "\n",
    "G = NeuronGroup(N, eqs, threshold='v>30', reset=reset, method='euler')\n",
    "G.v[0] = 'rand()*30'\n",
    "G.Isyn = 0\n",
    "\n",
    "synPrep = '''\n",
    "    Smoother  = 1 / (1 + exp((-v_pre / ksyn)))\n",
    "    Isyn_post = gsyn * Smoother * (Esyn - v_post)\n",
    "'''\n",
    "S = Synapses(G, G, on_pre=synPrep)\n",
    "S.connect(i=Pree, j=Postt)\n",
    "\n",
    "M = StateMonitor(G, 'v', record=True)\n",
    "run(6*second)\n",
    "\n",
    "\n",
    "\n",
    "\n",
    "plot(M.t/ms, M.v[0])\n",
    "plot(M.t/ms, M.v[1])\n",
    "plot(M.t/ms, M.v[2])\n",
    "xlabel('Time (ms)')\n",
    "ylabel('v')\n"
   ]
  },
  {
   "cell_type": "code",
   "execution_count": 53,
   "metadata": {},
   "outputs": [
    {
     "data": {
      "text/plain": [
       "Text(0, 0.5, 'v')"
      ]
     },
     "execution_count": 53,
     "metadata": {},
     "output_type": "execute_result"
    },
    {
     "data": {
      "image/png": "[encoded data removed]",
      "text/plain": [
       "<Figure size 850x507 with 1 Axes>"
      ]
     },
     "metadata": {},
     "output_type": "display_data"
    }
   ],
   "source": [
    "plot(M.t/ms, M.v[0])\n",
    "plot(M.t/ms, M.v[1])\n",
    "plot(M.t/ms, M.v[2])\n",
    "xlabel('Time (ms)')\n",
    "ylabel('v')"
   ]
  },
  {
   "cell_type": "code",
   "execution_count": 29,
   "metadata": {},
   "outputs": [
    {
     "data": {
      "text/plain": [
       "(100, 1000)"
      ]
     },
     "execution_count": 29,
     "metadata": {},
     "output_type": "execute_result"
    }
   ],
   "source": []
  },
  {
   "cell_type": "code",
   "execution_count": null,
   "metadata": {},
   "outputs": [],
   "source": []
  }
 ],
 "metadata": {
  "kernelspec": {
   "display_name": "tf",
   "language": "python",
   "name": "python3"
  },
  "language_info": {
   "codemirror_mode": {
    "name": "ipython",
    "version": 3
   },
   "file_extension": ".py",
   "mimetype": "text/x-python",
   "name": "python",
   "nbconvert_exporter": "python",
   "pygments_lexer": "ipython3",
   "version": "3.10.9"
  },
  "orig_nbformat": 4
 },
 "nbformat": 4,
 "nbformat_minor": 2
}
