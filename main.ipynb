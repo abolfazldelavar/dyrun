{
 "cells": [
  {
   "attachments": {},
   "cell_type": "markdown",
   "metadata": {},
   "source": [
    "# FARYADELL SIMULATION FRAMEWORK\n",
    "This package has been provided to simulate easily and quickly several useful tools that have been written to simulate `linear` and `nonlinear dynamic` systems, dependent or independent over time. If you are a student who whishes to investigate and has decided to seek dynamic and control systems, this is for you. Enjoy it.\n",
    "\n",
    "* Creator:   Abolfazl Delavar\n",
    "* Web:       https://github.com/abolfazldelavar\n",
    "* Updated:   12 April 2023\n",
    "\n",
    "\"*Successful people are those who can build solid foundations with the bricks others throw at them.*\""
   ]
  },
  {
   "attachments": {},
   "cell_type": "markdown",
   "metadata": {},
   "source": [
    "## Requirements\n",
    "All external **extensions** utilized in the project must be added in this section. To have comprehensive accessibility to libraries, if there is some you would like to add, you can put them as an object to have better control and management of your libraries. Furthermore, There are two libraries name `clib` and `plib` placed in `coreLib.py` in which there are several useful functions that could be used for drawing or other purposes."
   ]
  },
  {
   "cell_type": "code",
   "execution_count": 1,
   "metadata": {},
   "outputs": [
    {
     "data": {
      "text/plain": [
       "<Figure size 640x480 with 0 Axes>"
      ]
     },
     "metadata": {},
     "output_type": "display_data"
    }
   ],
   "source": [
    "from core.lib.pyRequirment   import *\n",
    "from core.lib.coreLib        import *\n",
    "from core.caller.dyEngine    import *\n",
    "from core.caller.scopeEngine import *\n",
    "from core.caller.estEngine   import *\n",
    "from blocks.compNeuronBlocks import *\n",
    "from blocks.generalBlocks    import *"
   ]
  },
  {
   "attachments": {},
   "cell_type": "markdown",
   "metadata": {},
   "source": [
    "## Specialized functions\n",
    "As long as there is any specific function that you have to define, here is the best place to reach this aim. This section is considered as a pre-defined function step that could be available to use in the whole project."
   ]
  },
  {
   "cell_type": "code",
   "execution_count": 2,
   "metadata": {},
   "outputs": [],
   "source": [
    "def test():\n",
    "    pass"
   ]
  },
  {
   "attachments": {},
   "cell_type": "markdown",
   "metadata": {},
   "source": [
    "## Valuation\n",
    "This section provides the privilege to define **constant** values, which are usually used with a unique value in the whole project. Note that, they must be defined as a part of the `params` variable, which is a *list*."
   ]
  },
  {
   "cell_type": "code",
   "execution_count": 3,
   "metadata": {},
   "outputs": [],
   "source": [
    "params = clib.struct\n",
    "# The below variables are time-step and simulation time, respectively.\n",
    "# You might need to alter them arbitrarily.\n",
    "params.step = 0.0001 #(double)\n",
    "params.tOut = 6      #(double)\n",
    "\n",
    "# The given line below is a dependent variable. You normally\n",
    "# should NOT change it.\n",
    "params.n = int(params.tOut/params.step) #(DEPENDENT)\n",
    "\n",
    "# The two next variables carry the folders from which you can use to\n",
    "# call your files and saving the results organizely.\n",
    "params.dataPath = 'data'\n",
    "params.loadPath = params.dataPath + '/inputs'  #(string)\n",
    "params.savePath = params.dataPath + '/outputs' #(string)\n",
    "\n",
    "# Do you want to save a diary after each simulation? So set the below logical\n",
    "# variable \"True\". The below directory is the place your logs are saved.\n",
    "# The third order is a string that carries the name of the file, and normally\n",
    "# is created using the current time, but you can change it arbitrary.\n",
    "params.makeDiary = True   #(logical)\n",
    "params.diaryDir  = 'logs' #(string)\n",
    "params.diaryFile = clib.getNow(1, '-') #(string)\n",
    "\n",
    "# The amount of time (in second) between each commands printed on CP.\n",
    "params.commandIntervalSpan = 2 #(int)\n",
    "\n",
    "# The below line is related to creating names when you are saving data\n",
    "# which include the time of saving, It is a logical variable.\n",
    "params.uniqueSave = False #(logical)\n",
    "\n",
    "# The below string can be set like one of the following formats. It's the\n",
    "# default format that when you do not adjust any formats, it will be\n",
    "# considered. These allowed formats are \"jpg\", \"png\", \"pdf\"\n",
    "params.defaultImageFormat = 'png' #(string)\n",
    "# Put your params here ~~~>"
   ]
  },
  {
   "attachments": {},
   "cell_type": "markdown",
   "metadata": {},
   "source": [
    "## Signals\n",
    "Any signals and array variables should be defined in this section. Also, scope objects which are effective to observe a signal, should be defined here. All your signals must be a part of `signals` variable."
   ]
  },
  {
   "cell_type": "code",
   "execution_count": 4,
   "metadata": {},
   "outputs": [],
   "source": [
    "signals = clib.struct\n",
    "# Simulation time vector\n",
    "signals.tLine = np.arange(0, params.tOut, params.step)\n",
    "# Put your signals here ~~~>\n",
    "signals.v = scope(signals.tLine, 10)"
   ]
  },
  {
   "attachments": {},
   "cell_type": "markdown",
   "metadata": {},
   "source": [
    "## Models\n",
    "Any dynamic objects and those which are not as simple as an array must be defined as a part of `models` variable; Objects such as estimators and controllers."
   ]
  },
  {
   "cell_type": "code",
   "execution_count": 6,
   "metadata": {},
   "outputs": [],
   "source": [
    "models = clib.struct\n",
    "# This function is created to support your systems\n",
    "models.updated = True\n",
    "# Put your models here ~~~>\n",
    "models.G = nonlinearGroup(izhikevich(), params.step)\n",
    "models.G.predict(1)\n",
    "gg = nonlinearGroup(izhikevich(), params.step)\n",
    "gg.predict(1)"
   ]
  },
  {
   "cell_type": "code",
   "execution_count": null,
   "metadata": {},
   "outputs": [],
   "source": [
    "models.G.predict()\n",
    "gg.predict"
   ]
  },
  {
   "cell_type": "code",
   "execution_count": 10,
   "metadata": {},
   "outputs": [
    {
     "ename": "AttributeError",
     "evalue": "type object 'bb' has no attribute 'loop'",
     "output_type": "error",
     "traceback": [
      "\u001b[1;31m---------------------------------------------------------------------------\u001b[0m",
      "\u001b[1;31mAttributeError\u001b[0m                            Traceback (most recent call last)",
      "Cell \u001b[1;32mIn[10], line 14\u001b[0m\n\u001b[0;32m     11\u001b[0m a \u001b[39m=\u001b[39m aa\n\u001b[0;32m     12\u001b[0m a\u001b[39m.\u001b[39mb \u001b[39m=\u001b[39m bb\n\u001b[1;32m---> 14\u001b[0m a\u001b[39m.\u001b[39;49mb\u001b[39m.\u001b[39;49mloop\n",
      "\u001b[1;31mAttributeError\u001b[0m: type object 'bb' has no attribute 'loop'"
     ]
    }
   ],
   "source": [
    "class bb():\n",
    "    def __init__(self, x):\n",
    "        self.loop = x\n",
    "    def c(self):\n",
    "        return self.loop\n",
    "\n",
    "class aa():\n",
    "    def __init__(self):\n",
    "        pass\n",
    "\n",
    "a = aa\n",
    "a.b = bb\n",
    "\n",
    "a.b.loop\n"
   ]
  },
  {
   "attachments": {},
   "cell_type": "markdown",
   "metadata": {},
   "source": [
    "## Simulation\n",
    "The key function of the project, undoubtedly, can be mentioned is `simulation` sunction which is given below. In this part, regarding the availability of all variables (`params`, `signals`, `models`, and `lib`) you are able to code your main purpose of this project here. Note that there is a loop named `Main loop` which you can utilize to use as time step loop, although you might not need to use that in many projects."
   ]
  },
  {
   "cell_type": "code",
   "execution_count": 6,
   "metadata": {},
   "outputs": [],
   "source": [
    "def simulation(params, signals, models):\n",
    "    # [Parameters, Models, Signals, Libraries] <- (Parameters, Signals, Models, Libraries)\n",
    "    # This function is your main code which there is a time-loop in\n",
    "    # Also, the model blocks and the signals must be updated here.\n",
    "    # Before the main loop, you can initialize if you need, Also you can\n",
    "    # finalize after that if you need, as well.\n",
    "    \n",
    "    ## Initial options\n",
    "    func = clib()\n",
    "    st   = clib.sayStart(params)\n",
    "    # A trigger used to report steps in command\n",
    "    trig = [st, params['commandIntervalSpan'], -1]\n",
    "    \n",
    "    ## Main loop\n",
    "    for k in range(0, params['n']):\n",
    "        # Displaying the iteration number on the command window\n",
    "        trig = clib.disit(k, params['n'], trig, params)\n",
    "\n",
    "        # Put your codes here ~~~>        \n",
    "\n",
    "    ## Finalize options\n",
    "    # To report the simulation time after running has finished\n",
    "    clib.disit(k, params['n'], [st, 0, trig[2]], params)\n",
    "    clib.sayEnd(st, params)\n",
    "    # Sent to output\n",
    "    return [params, signals, models]"
   ]
  },
  {
   "attachments": {},
   "cell_type": "markdown",
   "metadata": {},
   "source": [
    "## Running\n",
    "To run the project, the below piece of code is provided. In simple projects, you might need to run once, while there are numerous ones that you will have to run the simulation for several times; to do that, you can use loops and other arbitrary techniques to call `simulation` which might be given changed inputs such as `params`, etc."
   ]
  },
  {
   "cell_type": "code",
   "execution_count": 7,
   "metadata": {},
   "outputs": [
    {
     "name": "stdout",
     "output_type": "stream",
     "text": [
      "\n",
      "Faryadell Simulation Framework (FSF) - Version 1.0.0\n",
      "The simulation has kicked off! (2023/04/14, 22:11:28)\n",
      "-------------------------------------------------------------------------------\n",
      "  Current step    |  All steps       |  Progress (%)    |  Remained time (m:s) \n",
      "-------------------------------------------------------------------------------\n",
      "  59999           |  60000           |  100             |  0:0                 \n",
      "__ᴀᴃᴏᴌქᴀჍᴌ ᴅᴇᴌᴀᴠᴀᴚ_____________________________________________________________\n",
      "The simulation has been completed. (0 minutes and 0.183 seconds)\n"
     ]
    }
   ],
   "source": [
    "[params, signals, models] = simulation(params, signals, models)"
   ]
  },
  {
   "attachments": {},
   "cell_type": "markdown",
   "metadata": {},
   "source": [
    "### Profiling\n",
    "If you need to check the timing of your project and know which part of your program is the most time-consuming, uncomment the content in this section and observe your performance of coding. It is worth mentioning that the previous code block should be commented.\n",
    "\n",
    "If you want to use it in `Command Prompt`, run the below codes to create and show the results.\n",
    "* `python -m cProfile -o logs\\profiler\\cprofiler.prof main.py`\n",
    "* `snakeviz logs\\profiler\\cprofiler.prof`"
   ]
  },
  {
   "cell_type": "code",
   "execution_count": 8,
   "metadata": {},
   "outputs": [],
   "source": [
    "# # Running the code and save the results into a file\n",
    "# order = 'simulation(params, signals, models, lib)'\n",
    "# profileName = params['diaryDir'] + '/profiler/' + params['diaryFile'] + '.prof'\n",
    "# cProfile.run(order, profileName)\n",
    "# # Depiction of the results \n",
    "# %load_ext snakeviz\n",
    "# %snakeviz profileName"
   ]
  },
  {
   "attachments": {},
   "cell_type": "markdown",
   "metadata": {},
   "source": [
    "## Illustration\n",
    "If you need to demonsrate the results obtained, this section can be utilized to have better organization."
   ]
  },
  {
   "cell_type": "code",
   "execution_count": 9,
   "metadata": {},
   "outputs": [],
   "source": [
    "## Initialize\n",
    "n     = params['n']\n",
    "nn    = np.arange(0, n)        # A vector from 1 to n\n",
    "tLine = signals['tLine'][nn]   # A time-line vector\n",
    "## Write your codes here ~~~>"
   ]
  },
  {
   "attachments": {},
   "cell_type": "markdown",
   "metadata": {},
   "source": [
    "## Saving\n",
    "Use the below part, providing to save data."
   ]
  },
  {
   "cell_type": "code",
   "execution_count": 10,
   "metadata": {},
   "outputs": [],
   "source": [
    "## Write your codes here ~~~>"
   ]
  }
 ],
 "metadata": {
  "kernelspec": {
   "display_name": "tf",
   "language": "python",
   "name": "python3"
  },
  "language_info": {
   "codemirror_mode": {
    "name": "ipython",
    "version": 3
   },
   "file_extension": ".py",
   "mimetype": "text/x-python",
   "name": "python",
   "nbconvert_exporter": "python",
   "pygments_lexer": "ipython3",
   "version": "3.10.9"
  },
  "orig_nbformat": 4
 },
 "nbformat": 4,
 "nbformat_minor": 2
}
