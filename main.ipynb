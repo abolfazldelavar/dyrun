{
 "cells": [
  {
   "attachments": {},
   "cell_type": "markdown",
   "metadata": {},
   "source": [
    "# FARYADELL SIMULATION FRAMEWORK\n",
    "The `Faryadell Simulation Framework` is a simple tool that facilitates simulations expeditiously and effortlessly, using invaluable instruments for modeling linear and nonlinear dynamic systems, irrespective of their time dependence or independence. This formidable instrument is capable of executing `Dynamic Mathematical Models` and is advantageous for control engineering applications, estimation, and prediction. Moreover, it is applicable to Machine Learning and AI domains, including neural networks. Researchers who wish to delve into the realm of dynamic and control systems will find this package to be an invaluable resource. Enjoy!\n",
    "\n",
    "\"*Successful people are those who can build solid foundations with the bricks others throw at them.*\"\n",
    "    \n",
    "        Creator: Abolfazl Delavar\n",
    "        Website: https://github.com/abolfazldelavar"
   ]
  },
  {
   "attachments": {},
   "cell_type": "markdown",
   "metadata": {},
   "source": [
    "## Requirements\n",
    "All external **dependencies** utilized in the project should be documented in this section. To ensure comprehensive access to libraries, any additional libraries can be added as objects (using `struc()`) for improved control and management. Additionally, the `coreLib.py` file contains two libraries, `clib` and `plib`, which provide a variety of useful functions for tasks such as drawing."
   ]
  },
  {
   "cell_type": "code",
   "execution_count": 1,
   "metadata": {},
   "outputs": [
    {
     "data": {
      "text/plain": [
       "<Figure size 640x480 with 0 Axes>"
      ]
     },
     "metadata": {},
     "output_type": "display_data"
    }
   ],
   "source": [
    "# To generate plots in an independent window outside this page\n",
    "# %matplotlib qt\n",
    "\n",
    "# Dependencies\n",
    "from core.lib.pyRequirement import *\n",
    "from core.lib.coreLib import *\n",
    "from blocks.compNeuronBlocks import *"
   ]
  },
  {
   "attachments": {},
   "cell_type": "markdown",
   "metadata": {},
   "source": [
    "## Custom Functions\n",
    "If you need to define any custom functions for your project, this is the ideal location to do so. This section serves as a repository for pre-defined functions that can be accessed and utilized throughout the entire project."
   ]
  },
  {
   "cell_type": "code",
   "execution_count": 2,
   "metadata": {},
   "outputs": [],
   "source": [
    "def test():\n",
    "    '''\n",
    "    DocString `is` a text to help using this function.\n",
    "    '''\n",
    "    pass"
   ]
  },
  {
   "attachments": {},
   "cell_type": "markdown",
   "metadata": {},
   "source": [
    "## Parameters\n",
    "This segment confers the prerogative to establish **invariable** quantities, typically employed with a singular value throughout the entire project. It is imperative to note that they must be delineated as a component of the `params` variable, which constitutes a `struct` collection."
   ]
  },
  {
   "cell_type": "code",
   "execution_count": 3,
   "metadata": {},
   "outputs": [],
   "source": [
    "params = structure()\n",
    "\n",
    "# Set the time-step and simulation time as needed.\n",
    "# Note: These variables may need to be changed arbitrarily.\n",
    "params.step = 0.0001 #(double)\n",
    "params.tOut = 6      #(double)\n",
    "\n",
    "# Calculate the number of steps required for the simulation.\n",
    "# Note: This variable is dependent on the time-step and simulation time, and should not be changed.\n",
    "params.n = int(params.tOut/params.step) #(DEPENDENT)\n",
    "\n",
    "# Specify the folders for input data, output data, and logs.\n",
    "params.dataPath = 'data'\n",
    "params.loadPath = params.dataPath + '/inputs'  #(string)\n",
    "params.savePath = params.dataPath + '/outputs' #(string)\n",
    "\n",
    "# Determine whether to save a diary after each simulation and specify the directory and name of the diary file.\n",
    "# Note: The diary file name is normally created using the current time, but can be changed arbitrarily.\n",
    "params.makeDiary = True   #(logical)\n",
    "params.diaryDir  = 'logs' #(string)\n",
    "params.diaryFile = clib.getNow(1, '-') #(string)\n",
    "\n",
    "# Set the amount of time (in seconds) between each string printed on the command prompt.\n",
    "params.commandIntervalSpan = 2 #(int)\n",
    "\n",
    "# Determine whether to save data with a unique name based on the time of saving.\n",
    "params.uniqueSave = False #(logical)\n",
    "\n",
    "# Specify the default image format for saving.\n",
    "# Note: Allowed formats are \"jpg\", \"png\", and \"pdf\".\n",
    "params.defaultImageFormat = 'png' #(string)\n",
    "\n",
    "# Add any additional parameters as needed ~~~>"
   ]
  },
  {
   "attachments": {},
   "cell_type": "markdown",
   "metadata": {},
   "source": [
    "## Signals\n",
    "This section is designated for the definition of any signals and array variables."
   ]
  },
  {
   "cell_type": "code",
   "execution_count": 4,
   "metadata": {},
   "outputs": [],
   "source": [
    "signals = structure()\n",
    "# Generate a time vector for the simulation using the specified time-step and simulation time.\n",
    "signals.tLine = np.arange(0, params.tOut, params.step)\n",
    "# Insert signal data here ~~~>"
   ]
  },
  {
   "attachments": {},
   "cell_type": "markdown",
   "metadata": {},
   "source": [
    "## Models\n",
    "Dynamic objects and those that are not as elementary as an array must be delineated as a component of the `models` variable. This includes objects such as estimators and controllers."
   ]
  },
  {
   "cell_type": "code",
   "execution_count": 5,
   "metadata": {},
   "outputs": [],
   "source": [
    "models = structure()\n",
    "# Add your desired models to the struct ~~~>"
   ]
  },
  {
   "attachments": {},
   "cell_type": "markdown",
   "metadata": {},
   "source": [
    "## Main\n",
    "### Oscilloscope set up\n",
    "Firstly, `scope` objects that are instrumental in observing signals should be defined herein."
   ]
  },
  {
   "cell_type": "code",
   "execution_count": 6,
   "metadata": {},
   "outputs": [],
   "source": [
    "# Insert signal trackers here ~~~>"
   ]
  },
  {
   "attachments": {},
   "cell_type": "markdown",
   "metadata": {},
   "source": [
    "### Simulation\n",
    "The principal function of the project, indubitably, can be identified as the `simulation` function delineated below. In this segment, given the accessibility of all variables (`params`, `signals`, and `models`), you possess the capability to code the primary objective of this project herein. It is imperative to note that there exists a loop entitled `Main loop`, which can be employed as a time step loop, albeit its utilization may not be requisite in numerous projects."
   ]
  },
  {
   "cell_type": "code",
   "execution_count": 7,
   "metadata": {},
   "outputs": [],
   "source": [
    "def simulation(params, signals, models):\n",
    "    # This function is the main code for your simulation, containing a time-loop and utilizing model blocks and signals.\n",
    "    # The order of the input parameters should be (Parameters, Signals, Models).\n",
    "    # You can initialize before the main loop and finalize after it if needed.\n",
    "    \n",
    "    ## Initial options\n",
    "    # Call the sayStart method from clib class with params as input and assign it to st variable\n",
    "    st   = clib.sayStart(params)\n",
    "    # Create a trigger to report steps in command\n",
    "    trig = [st, params.commandIntervalSpan, -1]\n",
    "    \n",
    "    ## Main loop\n",
    "    for k in range(0, params.n):\n",
    "        # Display the iteration number on the command window using disit method from clib class\n",
    "        trig = clib.disit(k, params.n, trig, params)\n",
    "\n",
    "        # Put your codes here ~~~>\n",
    "\n",
    "    ## Finalize options\n",
    "    # Report the simulation time after running has finished\n",
    "    clib.disit(k, params.n, [st, 0, trig[2]], params)\n",
    "    # Call the sayEnd method from clib class\n",
    "    clib.sayEnd(st, params)\n",
    "    # Return the output as a list of params, signals, models\n",
    "    return [params, signals, models]"
   ]
  },
  {
   "attachments": {},
   "cell_type": "markdown",
   "metadata": {},
   "source": [
    "## Execution\n",
    "To run the project, the subsequent code snippet is furnished. In elementary projects, a single execution may suffice, whereas, in more intricate ones, multiple simulations may be necessitated. To accomplish this, loops and other discretionary techniques can be employed to invoke the `simulation` function with altered inputs such as `params`, etc."
   ]
  },
  {
   "cell_type": "code",
   "execution_count": 8,
   "metadata": {},
   "outputs": [
    {
     "name": "stdout",
     "output_type": "stream",
     "text": [
      "\n",
      "Faryadell Simulation Framework (FSF) - Version 1.0.0\n",
      "The simulation has kicked off! (2023/04/21, 20:54:12)\n",
      "-------------------------------------------------------------------------------\n",
      "  Current step    |  All steps       |  Progress (%)    |  Remained time (m:s) \n",
      "-------------------------------------------------------------------------------\n",
      "  56962           |  60000           |  95              |  0:0                 \n",
      "  59999           |  60000           |  100             |  0:0                 \n",
      "__ᴀᴃᴏᴌქᴀჍᴌ ᴅᴇᴌᴀᴠᴀᴚ_____________________________________________________________\n",
      "The simulation has been completed. (0 minutes and 2.0928 seconds)\n"
     ]
    }
   ],
   "source": [
    "[params, signals, models] = simulation(params, signals, models)"
   ]
  },
  {
   "attachments": {},
   "cell_type": "markdown",
   "metadata": {},
   "source": [
    "### Analysis\n",
    "Should you necessitate an evaluation of your project’s timing and an identification of the most time-intensive segments of your program, you may uncomment the contents of this section and scrutinize your coding performance. It is pertinent to note that the preceding code block should be commented.\n",
    "\n",
    "To utilize this feature in `Command Prompt`, execute the subsequent commands to generate and display the results:\n",
    "* `python -m cProfile -o logs\\profiler\\cprofiler.prof main.py`\n",
    "* `snakeviz logs\\profiler\\cprofiler.prof`"
   ]
  },
  {
   "cell_type": "code",
   "execution_count": 9,
   "metadata": {},
   "outputs": [],
   "source": [
    "# # Run the simulation and save the results into a file\n",
    "# simulationorder = 'simulation(params, signals, models, lib)'\n",
    "# profilename = params.diaryDir + '/profiler/' + params.diaryFile + '.prof'\n",
    "# cProfile.run(simulationorder, profilename)\n",
    "\n",
    "# # Visualize the profiling results using snakeviz\n",
    "# %loadext snakeviz\n",
    "# %snakeviz profilename"
   ]
  },
  {
   "attachments": {},
   "cell_type": "markdown",
   "metadata": {},
   "source": [
    "## Illustration\n",
    "Should you necessitate the exhibition of the results procured, this section can be employed to facilitate superior organization."
   ]
  },
  {
   "cell_type": "code",
   "execution_count": 10,
   "metadata": {},
   "outputs": [],
   "source": [
    "## Initialize the variables and parameters\n",
    "n = params.n                # number of elements\n",
    "nn = np.arange(0, n)        # create a vector from 0 to n-1\n",
    "tLine = signals.tLine[nn]   # create a time-line vector with length n\n",
    "plib.initialize()           # initialize the library\n",
    "\n",
    "## Write your codes here ~~~>"
   ]
  },
  {
   "attachments": {},
   "cell_type": "markdown",
   "metadata": {},
   "source": [
    "## Preservation\n",
    "Utilize the subsequent section to store data."
   ]
  },
  {
   "cell_type": "code",
   "execution_count": 11,
   "metadata": {},
   "outputs": [],
   "source": [
    "## Write your codes here ~~~>"
   ]
  }
 ],
 "metadata": {
  "kernelspec": {
   "display_name": "tf",
   "language": "python",
   "name": "python3"
  },
  "language_info": {
   "codemirror_mode": {
    "name": "ipython",
    "version": 3
   },
   "file_extension": ".py",
   "mimetype": "text/x-python",
   "name": "python",
   "nbconvert_exporter": "python",
   "pygments_lexer": "ipython3",
   "version": "3.10.9"
  },
  "orig_nbformat": 4
 },
 "nbformat": 4,
 "nbformat_minor": 2
}
