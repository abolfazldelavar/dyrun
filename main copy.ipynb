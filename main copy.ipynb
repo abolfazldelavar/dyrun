{
 "cells": [
  {
   "cell_type": "code",
   "execution_count": 4,
   "metadata": {},
   "outputs": [],
   "source": [
    "#To enable plotting outside of this page in a separate window\n",
    "%matplotlib qt\n",
    "# Requirements\n",
    "from core.lib.pyRequirment   import *\n",
    "from core.lib.coreLib        import *\n",
    "from core.caller.scopeEngine import *\n",
    "from blocks.compNeuronBlocks import *\n",
    "from blocks.generalBlocks    import *"
   ]
  },
  {
   "cell_type": "code",
   "execution_count": 2,
   "metadata": {},
   "outputs": [],
   "source": [
    "params = clib.struct\n",
    "# The below variables are time-step and simulation time, respectively.\n",
    "# You might need to alter them arbitrarily.\n",
    "params.step = 0.0001 #(double)\n",
    "params.tOut = 6      #(double)\n",
    "\n",
    "# The given line below is a dependent variable. You normally\n",
    "# should NOT change it.\n",
    "params.n = int(params.tOut/params.step) #(DEPENDENT)\n",
    "\n",
    "# The two next variables carry the folders from which you can use to\n",
    "# call your files and saving the results organizely.\n",
    "params.dataPath = 'data'\n",
    "params.loadPath = params.dataPath + '/inputs'  #(string)\n",
    "params.savePath = params.dataPath + '/outputs' #(string)\n",
    "\n",
    "# Do you want to save a diary after each simulation? So set the below logical\n",
    "# variable \"True\". The below directory is the place your logs are saved.\n",
    "# The third order is a string that carries the name of the file, and normally\n",
    "# is created using the current time, but you can change it arbitrary.\n",
    "params.makeDiary = True   #(logical)\n",
    "params.diaryDir  = 'logs' #(string)\n",
    "params.diaryFile = clib.getNow(1, '-') #(string)\n",
    "\n",
    "# The amount of time (in second) between each commands printed on CP.\n",
    "params.commandIntervalSpan = 2 #(int)\n",
    "\n",
    "# The below line is related to creating names when you are saving data\n",
    "# which include the time of saving, It is a logical variable.\n",
    "params.uniqueSave = False #(logical)\n",
    "\n",
    "# The below string can be set like one of the following formats. It's the\n",
    "# default format that when you do not adjust any formats, it will be\n",
    "# considered. These allowed formats are \"jpg\", \"png\", \"pdf\"\n",
    "params.defaultImageFormat = 'png' #(string)\n",
    "# Put your params here ~~~>"
   ]
  },
  {
   "cell_type": "code",
   "execution_count": 37,
   "metadata": {},
   "outputs": [],
   "source": [
    "models = clib.struct\n",
    "# Put your models here ~~~>\n",
    "models.chaos1 = quadrupleTank(np.arange(0,200,0.1))\n",
    "models.chaos2 = quadrupleTank(np.arange(0,200,0.1), estimator=True)"
   ]
  },
  {
   "cell_type": "code",
   "execution_count": 38,
   "metadata": {},
   "outputs": [],
   "source": [
    "for i in np.arange(0, 2000):\n",
    "    models.chaos1(1)\n",
    "    models.chaos2.estimate(models.chaos1.inputs[:,i], models.chaos1.outputs[:,i] + 0.02*np.random.randn(2))"
   ]
  },
  {
   "cell_type": "code",
   "execution_count": 39,
   "metadata": {},
   "outputs": [],
   "source": [
    "plib.initialize()\n",
    "models.chaos1.show(params)\n",
    "models.chaos2.show(params)"
   ]
  },
  {
   "cell_type": "code",
   "execution_count": null,
   "metadata": {},
   "outputs": [],
   "source": [
    "signals = clib.struct\n",
    "# Put your signals here ~~~>\n",
    "models.astrocytes"
   ]
  },
  {
   "cell_type": "code",
   "execution_count": null,
   "metadata": {},
   "outputs": [],
   "source": [
    "models.neurons(1)\n",
    "models.astrocytes(2)"
   ]
  },
  {
   "cell_type": "code",
   "execution_count": null,
   "metadata": {},
   "outputs": [],
   "source": []
  },
  {
   "cell_type": "code",
   "execution_count": null,
   "metadata": {},
   "outputs": [],
   "source": []
  }
 ],
 "metadata": {
  "kernelspec": {
   "display_name": "tf",
   "language": "python",
   "name": "python3"
  },
  "language_info": {
   "codemirror_mode": {
    "name": "ipython",
    "version": 3
   },
   "file_extension": ".py",
   "mimetype": "text/x-python",
   "name": "python",
   "nbconvert_exporter": "python",
   "pygments_lexer": "ipython3",
   "version": "3.10.9"
  },
  "orig_nbformat": 4
 },
 "nbformat": 4,
 "nbformat_minor": 2
}
